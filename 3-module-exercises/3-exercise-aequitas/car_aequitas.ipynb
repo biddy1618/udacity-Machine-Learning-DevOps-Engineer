{
 "cells": [
  {
   "cell_type": "markdown",
   "metadata": {},
   "source": [
    "# Exercise: Aequitas\n",
    "In this exercise, you will use Aequitas to investigate the potential bias in a model/data set.\n",
    "* We'll use the Car Evaluation Data Set from the UCI Machine Learning Repository, a notebook that trains a logistic regression model to determine the car's acceptability is provided.\n",
    "* Using Aequitas, determine if the model contains bias. For simplicity, from Aequitas' Fairness class obtain the results of the `get_overall_fairness` method which returns a dictionary with Yes/No result for \"Unsupervised Fairness\", \"Supervised Fairness\" and \"Overall Fairness\".\n",
    "* Lastly, use the `aequitas.plotting.Plot` module and compute the summary on `fpr`, `fnr`, and `for` with a 1.25 `fairness_threshold`.\n",
    "* You can draw inspiration from examples present here: https://github.com/dssg/aequitas/blob/master/docs/source/examples/compas_demo.ipynb"
   ]
  },
  {
   "cell_type": "code",
   "execution_count": null,
   "metadata": {},
   "outputs": [],
   "source": [
    "# Imports\n",
    "from aequitas.plotting import Plot\n",
    "ap = Plot()\n",
    "import pandas as pd\n",
    "\n",
    "from aequitas.group import Group\n",
    "from aequitas.bias import Bias \n",
    "from aequitas.fairness import Fairness\n",
    "\n",
    "from sklearn.model_selection import train_test_split\n",
    "from sklearn.linear_model import LogisticRegression\n",
    "from sklearn.preprocessing import OneHotEncoder, label_binarize, LabelBinarizer\n",
    "from sklearn.metrics import f1_score\n",
    "from sklearn.metrics import confusion_matrix, ConfusionMatrixDisplay\n",
    "\n",
    "pd.set_option('display.max_columns', None)\n",
    "pd.set_option('display.max_rows', None)"
   ]
  }
 ],
 "metadata": {
  "kernelspec": {
   "display_name": "Python 3.10.5 ('udacity-mldevops-mlflow')",
   "language": "python",
   "name": "python3"
  },
  "language_info": {
   "name": "python",
   "version": "3.10.5"
  },
  "orig_nbformat": 4,
  "vscode": {
   "interpreter": {
    "hash": "fe05c10c7b8dd1240f0cb9fbb63743f095ef9347510ee50b9524b4e44519d557"
   }
  }
 },
 "nbformat": 4,
 "nbformat_minor": 2
}
